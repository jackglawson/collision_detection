{
 "cells": [
  {
   "cell_type": "code",
   "execution_count": 43,
   "metadata": {},
   "outputs": [],
   "source": [
    "import numpy as np\n",
    "import random\n",
    "import time\n",
    "import matplotlib.pyplot as plt"
   ]
  },
  {
   "cell_type": "code",
   "execution_count": 5,
   "metadata": {},
   "outputs": [],
   "source": [
    "bounds = [[(0, 1), (0, 1)],\n",
    "          [(2, 4), (1, 4)],\n",
    "          [(1, 3), (2, 3)]]"
   ]
  },
  {
   "cell_type": "code",
   "execution_count": 6,
   "metadata": {},
   "outputs": [],
   "source": [
    "bounds = [[(0, 10)] ,[(1, 9)], [(2, 8)], [(9, 10)], [(11, 12)]]"
   ]
  },
  {
   "cell_type": "code",
   "execution_count": 7,
   "metadata": {},
   "outputs": [],
   "source": [
    "x_bounds = sorted([b[0] for b in bounds])\n",
    "x_order = sorted(range(len(bounds)), key = lambda i: bounds[i][0])"
   ]
  },
  {
   "cell_type": "code",
   "execution_count": null,
   "metadata": {},
   "outputs": [],
   "source": []
  },
  {
   "cell_type": "code",
   "execution_count": null,
   "metadata": {},
   "outputs": [],
   "source": []
  },
  {
   "cell_type": "code",
   "execution_count": 110,
   "metadata": {},
   "outputs": [],
   "source": [
    "x_bounds = [tuple(sorted((random.uniform(0, 100), random.uniform(0, 100)))) for _ in range(1000)]"
   ]
  },
  {
   "cell_type": "code",
   "execution_count": 111,
   "metadata": {},
   "outputs": [],
   "source": [
    "sorted_x_bounds = sorted(x_bounds)\n",
    "x_order = list(range(len(sorted_x_bounds)))"
   ]
  },
  {
   "cell_type": "code",
   "execution_count": 112,
   "metadata": {},
   "outputs": [],
   "source": [
    "# brute force\n",
    "def brute(sorted_x_bounds):\n",
    "    collisions1 = [[False] * len(sorted_x_bounds) for _ in range(len(sorted_x_bounds))]\n",
    "    for i in range(len(sorted_x_bounds)):\n",
    "        for j in range(len(sorted_x_bounds)):\n",
    "            if sorted_x_bounds[i][0] < sorted_x_bounds[j][0] < sorted_x_bounds[i][1] or sorted_x_bounds[i][0] < sorted_x_bounds[j][1] < sorted_x_bounds[i][1]:\n",
    "                collisions1[i][j] = collisions1[j][i] = True\n",
    "    return collisions1"
   ]
  },
  {
   "cell_type": "code",
   "execution_count": 113,
   "metadata": {},
   "outputs": [],
   "source": [
    "# smart algorithm\n",
    "def smart(sorted_x_bounds, x_order):\n",
    "    tos = {0: sorted_x_bounds[0][0]}\n",
    "    collisions2 = [[False] * len(sorted_x_bounds) for _ in range(len(sorted_x_bounds))]\n",
    "\n",
    "    for i, x_bound in zip(x_order, sorted_x_bounds):\n",
    "        for j in tuple(tos.keys()):\n",
    "            if x_bound[0] >= tos[j]:\n",
    "                del tos[j]\n",
    "            else:\n",
    "                collisions2[i][j] = collisions2[j][i] = True\n",
    "\n",
    "        tos[i] = x_bound[1]\n",
    "    \n",
    "    return collisions2"
   ]
  },
  {
   "cell_type": "code",
   "execution_count": 114,
   "metadata": {},
   "outputs": [],
   "source": [
    "def smart_2(sorted_x_bounds):\n",
    "    collisions = [[False] * len(sorted_x_bounds) for _ in range(len(sorted_x_bounds))]\n",
    "    \n",
    "    l = []\n",
    "    for i, x in enumerate(sorted_x_bounds):\n",
    "        l.append((x[0], \"s\", i))\n",
    "        l.append((x[1], \"e\", i))\n",
    "    l.sort()\n",
    "        \n",
    "    active_particles = set()\n",
    "    for t in l:\n",
    "        if t[1] == \"s\":\n",
    "            active_particles.add(t[2])\n",
    "            for p in active_particles:\n",
    "                collisions[p][t[2]] = collisions[t[2]][p] = True\n",
    "        elif t[1] == \"e\":\n",
    "            active_particles.remove(t[2])\n",
    "            \n",
    "    for i in range(len(sorted_x_bounds)):\n",
    "        collisions[i][i] = False\n",
    "            \n",
    "    return collisions"
   ]
  },
  {
   "cell_type": "code",
   "execution_count": 115,
   "metadata": {},
   "outputs": [],
   "source": [
    "c1 = brute(sorted_x_bounds)"
   ]
  },
  {
   "cell_type": "code",
   "execution_count": 116,
   "metadata": {},
   "outputs": [],
   "source": [
    "c3 = smart_2(sorted_x_bounds)"
   ]
  },
  {
   "cell_type": "code",
   "execution_count": 117,
   "metadata": {},
   "outputs": [
    {
     "data": {
      "text/plain": [
       "True"
      ]
     },
     "execution_count": 117,
     "metadata": {},
     "output_type": "execute_result"
    }
   ],
   "source": [
    "c1 == c3"
   ]
  },
  {
   "cell_type": "code",
   "execution_count": 129,
   "metadata": {},
   "outputs": [],
   "source": [
    "brute_times = []\n",
    "smart_times = []\n",
    "smart_2_times = []\n",
    "ns = np.linspace(1, 6000, 11, dtype=int)"
   ]
  },
  {
   "cell_type": "code",
   "execution_count": 130,
   "metadata": {},
   "outputs": [
    {
     "name": "stdout",
     "output_type": "stream",
     "text": [
      "1 True\n",
      "600 True\n",
      "1200 True\n",
      "1800 True\n",
      "2400 True\n",
      "3000 True\n",
      "3600 True\n",
      "4200 True\n",
      "4800 True\n",
      "5400 True\n",
      "6000 True\n"
     ]
    }
   ],
   "source": [
    "for n in ns:\n",
    "    x_bounds = [tuple(sorted((random.uniform(0, 100), random.uniform(0, 100)))) for _ in range(n)]\n",
    "    sorted_x_bounds = sorted(x_bounds)\n",
    "    x_order = list(range(len(sorted_x_bounds)))\n",
    "    \n",
    "    s = time.time()\n",
    "    c1 = brute(sorted_x_bounds)\n",
    "    f = time.time()\n",
    "    brute_times.append(f-s)\n",
    "    \n",
    "    s = time.time()\n",
    "    c2 = smart(sorted_x_bounds, x_order)\n",
    "    f = time.time()\n",
    "    smart_times.append(f-s)\n",
    "    \n",
    "    s = time.time()\n",
    "    c3 = smart_2(sorted_x_bounds)\n",
    "    f = time.time()\n",
    "    smart_2_times.append(f-s)\n",
    "    \n",
    "    print(n, c1==c2==c3)"
   ]
  },
  {
   "cell_type": "code",
   "execution_count": 132,
   "metadata": {},
   "outputs": [
    {
     "data": {
      "image/png": "[encoded data removed]",
      "text/plain": [
       "<Figure size 432x288 with 1 Axes>"
      ]
     },
     "metadata": {
      "needs_background": "light"
     },
     "output_type": "display_data"
    }
   ],
   "source": [
    "plt.plot(ns, brute_times, label=\"brute\")\n",
    "plt.plot(ns, smart_times, label=\"smart\")\n",
    "plt.plot(ns, smart_2_times, label=\"smart_2\")\n",
    "plt.legend()\n",
    "plt.show()"
   ]
  },
  {
   "cell_type": "code",
   "execution_count": 35,
   "metadata": {},
   "outputs": [],
   "source": [
    "c1 = brute(sorted_x_bounds)\n",
    "c2 = smart(sorted_x_bounds, x_order)"
   ]
  },
  {
   "cell_type": "code",
   "execution_count": 32,
   "metadata": {
    "scrolled": true
   },
   "outputs": [
    {
     "data": {
      "text/plain": [
       "True"
      ]
     },
     "execution_count": 32,
     "metadata": {},
     "output_type": "execute_result"
    }
   ],
   "source": [
    "c1 == c2"
   ]
  },
  {
   "cell_type": "code",
   "execution_count": null,
   "metadata": {},
   "outputs": [],
   "source": []
  }
 ],
 "metadata": {
  "kernelspec": {
   "display_name": "Python 3",
   "language": "python",
   "name": "python3"
  },
  "language_info": {
   "codemirror_mode": {
    "name": "ipython",
    "version": 3
   },
   "file_extension": ".py",
   "mimetype": "text/x-python",
   "name": "python",
   "nbconvert_exporter": "python",
   "pygments_lexer": "ipython3",
   "version": "3.8.3"
  }
 },
 "nbformat": 4,
 "nbformat_minor": 4
}
