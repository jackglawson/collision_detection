{
 "cells": [
  {
   "cell_type": "code",
   "execution_count": 129,
   "metadata": {},
   "outputs": [],
   "source": [
    "import numpy as np\n",
    "import random"
   ]
  },
  {
   "cell_type": "code",
   "execution_count": 95,
   "metadata": {},
   "outputs": [],
   "source": [
    "bounds = [[(0, 1), (0, 1)],\n",
    "          [(2, 4), (1, 4)],\n",
    "          [(1, 3), (2, 3)]]"
   ]
  },
  {
   "cell_type": "code",
   "execution_count": 124,
   "metadata": {},
   "outputs": [],
   "source": [
    "bounds = [[(0, 10)] ,[(1, 9)], [(2, 8)], [(9, 10)], [(11, 12)]]"
   ]
  },
  {
   "cell_type": "code",
   "execution_count": null,
   "metadata": {},
   "outputs": [],
   "source": [
    "x_bounds = sorted([b[0] for b in bounds])\n",
    "x_order = sorted(range(len(bounds)), key = lambda i: bounds[i][0])"
   ]
  },
  {
   "cell_type": "code",
   "execution_count": null,
   "metadata": {},
   "outputs": [],
   "source": []
  },
  {
   "cell_type": "code",
   "execution_count": null,
   "metadata": {},
   "outputs": [],
   "source": []
  },
  {
   "cell_type": "code",
   "execution_count": 283,
   "metadata": {},
   "outputs": [],
   "source": [
    "x_bounds = [[7.141661365174623, 37.901291448710076],\n",
    " [8.011613965928909, 37.64246708878638],\n",
    " [77.0752337779331, 82.22404811715471]]"
   ]
  },
  {
   "cell_type": "code",
   "execution_count": 338,
   "metadata": {},
   "outputs": [],
   "source": [
    "x_bounds = [sorted((random.uniform(0, 100), random.uniform(0, 100))) for _ in range(100)]"
   ]
  },
  {
   "cell_type": "code",
   "execution_count": 339,
   "metadata": {},
   "outputs": [],
   "source": [
    "x_bounds = sorted(x_bounds)\n",
    "x_order = sorted(range(len(x_bounds)), key = lambda i: x_bounds[i])"
   ]
  },
  {
   "cell_type": "code",
   "execution_count": 340,
   "metadata": {},
   "outputs": [],
   "source": [
    "# brute force\n",
    "def brute(x_bounds):\n",
    "    collisions1 = [[False] * len(x_bounds) for _ in range(len(x_bounds))]\n",
    "    for i in range(len(x_bounds)):\n",
    "        for j in range(len(x_bounds)):\n",
    "            if x_bounds[i][0] < x_bounds[j][0] < x_bounds[i][1] or x_bounds[i][0] < x_bounds[j][1] < x_bounds[i][1]:\n",
    "                collisions1[i][j] = collisions1[j][i] = True\n",
    "    return collisions1"
   ]
  },
  {
   "cell_type": "code",
   "execution_count": 337,
   "metadata": {},
   "outputs": [],
   "source": [
    "# smart algorithm\n",
    "\n",
    "def smart(x_bounds):\n",
    "    tos = {0: x_bounds[0][0]}\n",
    "    collisions2 = [[False] * len(x_bounds) for _ in range(len(x_bounds))]\n",
    "\n",
    "    for i, x_bound in zip(x_order, x_bounds):\n",
    "        for j in tuple(tos.keys()):\n",
    "            if x_bound[0] >= tos[j]:\n",
    "                del tos[j]\n",
    "            else:\n",
    "                collisions2[i][j] = collisions2[j][i] = True\n",
    "\n",
    "        tos[i] = x_bound[1]\n",
    "    \n",
    "    return collisions2"
   ]
  },
  {
   "cell_type": "code",
   "execution_count": 336,
   "metadata": {},
   "outputs": [
    {
     "data": {
      "text/plain": [
       "True"
      ]
     },
     "execution_count": 336,
     "metadata": {},
     "output_type": "execute_result"
    }
   ],
   "source": [
    "collisions1 == collisions2"
   ]
  },
  {
   "cell_type": "code",
   "execution_count": null,
   "metadata": {},
   "outputs": [],
   "source": []
  }
 ],
 "metadata": {
  "kernelspec": {
   "display_name": "Python 3",
   "language": "python",
   "name": "python3"
  },
  "language_info": {
   "codemirror_mode": {
    "name": "ipython",
    "version": 3
   },
   "file_extension": ".py",
   "mimetype": "text/x-python",
   "name": "python",
   "nbconvert_exporter": "python",
   "pygments_lexer": "ipython3",
   "version": "3.8.6"
  }
 },
 "nbformat": 4,
 "nbformat_minor": 4
}
